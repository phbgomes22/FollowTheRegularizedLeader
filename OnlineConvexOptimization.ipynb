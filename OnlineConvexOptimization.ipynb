{
 "cells": [
  {
   "cell_type": "markdown",
   "metadata": {},
   "source": [
    "## Follow The Regularized Leader (FTRL)\n",
    "\n",
    "Usando o Follow The Regularized Leader para reconhecimento de mensagens de spam em emails no dataset spambase da UCI."
   ]
  },
  {
   "cell_type": "code",
   "execution_count": null,
   "metadata": {},
   "outputs": [],
   "source": []
  },
  {
   "cell_type": "markdown",
   "metadata": {},
   "source": [
    "### Definição do Problema\n",
    "\n",
    "P in R^n - playing set\n",
    "\n",
    "Algo plays a x_t from P\n",
    "\n",
    "Later, sees the loss function f_t\n",
    "\n",
    "-> Loss = f_t(x_t)\n",
    "\n",
    "#### Goal\n",
    "Sum f_t(x_t) <= OPT + Regret,\n",
    "\n",
    "Where OPT is playing the same best hand x^* at all times"
   ]
  },
  {
   "cell_type": "markdown",
   "metadata": {},
   "source": []
  }
 ],
 "metadata": {
  "language_info": {
   "name": "python"
  },
  "orig_nbformat": 4
 },
 "nbformat": 4,
 "nbformat_minor": 2
}
